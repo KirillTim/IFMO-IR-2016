{
 "cells": [
  {
   "cell_type": "code",
   "execution_count": 1,
   "metadata": {
    "collapsed": false
   },
   "outputs": [],
   "source": [
    "import pandas as pd\n",
    "import numpy as np\n",
    "import math\n",
    "import matplotlib.pyplot as plt\n",
    "import pickle"
   ]
  },
  {
   "cell_type": "code",
   "execution_count": 3,
   "metadata": {
    "collapsed": true
   },
   "outputs": [],
   "source": [
    "# data = pd.read_csv(\"train.data.cvs\")\n",
    "# data.replace([np.inf, -np.inf], np.nan, inplace=True)\n",
    "# data.fillna(0, inplace=True)"
   ]
  },
  {
   "cell_type": "code",
   "execution_count": 2,
   "metadata": {
    "collapsed": false
   },
   "outputs": [],
   "source": [
    "test = pd.read_csv(\"testset.cvs\")\n",
    "test.replace([np.inf, -np.inf], np.nan, inplace=True)\n",
    "test.fillna(0, inplace=True)"
   ]
  },
  {
   "cell_type": "code",
   "execution_count": 3,
   "metadata": {
    "collapsed": true
   },
   "outputs": [],
   "source": [
    "#cut data set\n",
    "#data.head(50000).to_csv('traincutted.csv', index=False)"
   ]
  },
  {
   "cell_type": "code",
   "execution_count": 4,
   "metadata": {
    "collapsed": false
   },
   "outputs": [],
   "source": [
    "# #STANDARTIZE\n",
    "# mn = {}\n",
    "# std = {}\n",
    "# i = 0\n",
    "# for col in data.columns.drop(['QID', 'Y']):\n",
    "#     i += 1\n",
    "#     if (i % 10 == 0):\n",
    "#         print(i)\n",
    "#     c = data[col].append(test[col], ignore_index=True)\n",
    "#     mn[col] = c.mean()\n",
    "#     std[col] = c.std()\n",
    "#     data[col] = pd.Series(map(lambda x: (x - mn[col]) / std[col], data[col]))\n",
    "#     test[col] = pd.Series(map(lambda x: (x - mn[col]) / std[col], test[col]))\n",
    "\n",
    "# mny = data['Y'].mean()\n",
    "# stdy = data['Y'].std()\n",
    "# data['Y'] = pd.Series(map(lambda x: (x - mny) / stdy, data['Y']))\n",
    "# pickle.dump(data, open('data.pickle', 'wb'))"
   ]
  },
  {
   "cell_type": "code",
   "execution_count": 3,
   "metadata": {
    "collapsed": false
   },
   "outputs": [],
   "source": [
    "data = pickle.load(open('data.pickle', 'rb'))"
   ]
  },
  {
   "cell_type": "code",
   "execution_count": 4,
   "metadata": {
    "collapsed": false
   },
   "outputs": [
    {
     "data": {
      "text/html": [
       "<div>\n",
       "<table border=\"1\" class=\"dataframe\">\n",
       "  <thead>\n",
       "    <tr style=\"text-align: right;\">\n",
       "      <th></th>\n",
       "      <th>Y</th>\n",
       "      <th>X1</th>\n",
       "      <th>X2</th>\n",
       "      <th>X3</th>\n",
       "      <th>X4</th>\n",
       "      <th>X5</th>\n",
       "      <th>X6</th>\n",
       "      <th>X7</th>\n",
       "      <th>X8</th>\n",
       "      <th>X9</th>\n",
       "      <th>...</th>\n",
       "      <th>X128</th>\n",
       "      <th>X129</th>\n",
       "      <th>X130</th>\n",
       "      <th>X131</th>\n",
       "      <th>X132</th>\n",
       "      <th>X133</th>\n",
       "      <th>X134</th>\n",
       "      <th>X135</th>\n",
       "      <th>X136</th>\n",
       "      <th>QID</th>\n",
       "    </tr>\n",
       "  </thead>\n",
       "  <tbody>\n",
       "    <tr>\n",
       "      <th>0</th>\n",
       "      <td>-0.520076</td>\n",
       "      <td>0.8734</td>\n",
       "      <td>4.874875</td>\n",
       "      <td>-1.140098</td>\n",
       "      <td>-0.697683</td>\n",
       "      <td>0.857758</td>\n",
       "      <td>0.578358</td>\n",
       "      <td>3.352266</td>\n",
       "      <td>-1.276091</td>\n",
       "      <td>-0.727231</td>\n",
       "      <td>...</td>\n",
       "      <td>1.633236</td>\n",
       "      <td>-0.261468</td>\n",
       "      <td>-0.876340</td>\n",
       "      <td>1.313413</td>\n",
       "      <td>-0.147491</td>\n",
       "      <td>-0.516928</td>\n",
       "      <td>-0.007767</td>\n",
       "      <td>-0.023933</td>\n",
       "      <td>-0.005446</td>\n",
       "      <td>1</td>\n",
       "    </tr>\n",
       "    <tr>\n",
       "      <th>1</th>\n",
       "      <td>-0.520076</td>\n",
       "      <td>0.8734</td>\n",
       "      <td>-0.359608</td>\n",
       "      <td>1.800658</td>\n",
       "      <td>-0.697683</td>\n",
       "      <td>0.857758</td>\n",
       "      <td>0.578358</td>\n",
       "      <td>-0.369378</td>\n",
       "      <td>1.087985</td>\n",
       "      <td>-0.727231</td>\n",
       "      <td>...</td>\n",
       "      <td>1.633236</td>\n",
       "      <td>-0.261468</td>\n",
       "      <td>-0.875984</td>\n",
       "      <td>1.313413</td>\n",
       "      <td>-0.542176</td>\n",
       "      <td>-0.541259</td>\n",
       "      <td>-0.007767</td>\n",
       "      <td>-0.023933</td>\n",
       "      <td>-0.005446</td>\n",
       "      <td>1</td>\n",
       "    </tr>\n",
       "    <tr>\n",
       "      <th>2</th>\n",
       "      <td>-0.802483</td>\n",
       "      <td>0.8734</td>\n",
       "      <td>-0.359608</td>\n",
       "      <td>0.820406</td>\n",
       "      <td>-0.697683</td>\n",
       "      <td>0.857758</td>\n",
       "      <td>0.578358</td>\n",
       "      <td>-0.369378</td>\n",
       "      <td>0.299961</td>\n",
       "      <td>-0.727231</td>\n",
       "      <td>...</td>\n",
       "      <td>-0.014477</td>\n",
       "      <td>-0.372609</td>\n",
       "      <td>-0.875984</td>\n",
       "      <td>-1.538956</td>\n",
       "      <td>-0.114601</td>\n",
       "      <td>1.040235</td>\n",
       "      <td>-0.007767</td>\n",
       "      <td>-0.023933</td>\n",
       "      <td>-0.005446</td>\n",
       "      <td>1</td>\n",
       "    </tr>\n",
       "    <tr>\n",
       "      <th>3</th>\n",
       "      <td>-0.520076</td>\n",
       "      <td>0.8734</td>\n",
       "      <td>-0.359608</td>\n",
       "      <td>1.800658</td>\n",
       "      <td>-0.697683</td>\n",
       "      <td>0.857758</td>\n",
       "      <td>0.578358</td>\n",
       "      <td>-0.369378</td>\n",
       "      <td>1.087985</td>\n",
       "      <td>-0.727231</td>\n",
       "      <td>...</td>\n",
       "      <td>1.633236</td>\n",
       "      <td>0.961087</td>\n",
       "      <td>-0.876028</td>\n",
       "      <td>1.308666</td>\n",
       "      <td>-0.542176</td>\n",
       "      <td>-0.516928</td>\n",
       "      <td>-0.007767</td>\n",
       "      <td>-0.023933</td>\n",
       "      <td>-0.005446</td>\n",
       "      <td>1</td>\n",
       "    </tr>\n",
       "    <tr>\n",
       "      <th>4</th>\n",
       "      <td>-0.661280</td>\n",
       "      <td>0.8734</td>\n",
       "      <td>-0.359608</td>\n",
       "      <td>1.800658</td>\n",
       "      <td>-0.697683</td>\n",
       "      <td>0.857758</td>\n",
       "      <td>0.578358</td>\n",
       "      <td>-0.369378</td>\n",
       "      <td>1.087985</td>\n",
       "      <td>-0.727231</td>\n",
       "      <td>...</td>\n",
       "      <td>-0.014477</td>\n",
       "      <td>0.294239</td>\n",
       "      <td>-0.870102</td>\n",
       "      <td>0.639589</td>\n",
       "      <td>-0.542176</td>\n",
       "      <td>-0.273622</td>\n",
       "      <td>-0.007767</td>\n",
       "      <td>-0.023933</td>\n",
       "      <td>-0.005446</td>\n",
       "      <td>1</td>\n",
       "    </tr>\n",
       "  </tbody>\n",
       "</table>\n",
       "<p>5 rows × 138 columns</p>\n",
       "</div>"
      ],
      "text/plain": [
       "          Y      X1        X2        X3        X4        X5        X6  \\\n",
       "0 -0.520076  0.8734  4.874875 -1.140098 -0.697683  0.857758  0.578358   \n",
       "1 -0.520076  0.8734 -0.359608  1.800658 -0.697683  0.857758  0.578358   \n",
       "2 -0.802483  0.8734 -0.359608  0.820406 -0.697683  0.857758  0.578358   \n",
       "3 -0.520076  0.8734 -0.359608  1.800658 -0.697683  0.857758  0.578358   \n",
       "4 -0.661280  0.8734 -0.359608  1.800658 -0.697683  0.857758  0.578358   \n",
       "\n",
       "         X7        X8        X9 ...       X128      X129      X130      X131  \\\n",
       "0  3.352266 -1.276091 -0.727231 ...   1.633236 -0.261468 -0.876340  1.313413   \n",
       "1 -0.369378  1.087985 -0.727231 ...   1.633236 -0.261468 -0.875984  1.313413   \n",
       "2 -0.369378  0.299961 -0.727231 ...  -0.014477 -0.372609 -0.875984 -1.538956   \n",
       "3 -0.369378  1.087985 -0.727231 ...   1.633236  0.961087 -0.876028  1.308666   \n",
       "4 -0.369378  1.087985 -0.727231 ...  -0.014477  0.294239 -0.870102  0.639589   \n",
       "\n",
       "       X132      X133      X134      X135      X136  QID  \n",
       "0 -0.147491 -0.516928 -0.007767 -0.023933 -0.005446    1  \n",
       "1 -0.542176 -0.541259 -0.007767 -0.023933 -0.005446    1  \n",
       "2 -0.114601  1.040235 -0.007767 -0.023933 -0.005446    1  \n",
       "3 -0.542176 -0.516928 -0.007767 -0.023933 -0.005446    1  \n",
       "4 -0.542176 -0.273622 -0.007767 -0.023933 -0.005446    1  \n",
       "\n",
       "[5 rows x 138 columns]"
      ]
     },
     "execution_count": 4,
     "metadata": {},
     "output_type": "execute_result"
    }
   ],
   "source": [
    "data.head()"
   ]
  },
  {
   "cell_type": "code",
   "execution_count": 6,
   "metadata": {
    "collapsed": true
   },
   "outputs": [],
   "source": [
    "from sklearn.model_selection import train_test_split\n",
    "\n",
    "Y = data['Y'].values\n",
    "X = data.drop(['Y', 'QID'], axis=1).values\n",
    "# X_train, X_test, y_train, y_test = train_test_split(X, Y, test_size=0.02, random_state=1)\n"
   ]
  },
  {
   "cell_type": "code",
   "execution_count": 7,
   "metadata": {
    "collapsed": false
   },
   "outputs": [],
   "source": [
    "X_train, X_test, y_train, y_test = train_test_split(X, Y, test_size=0.02)"
   ]
  },
  {
   "cell_type": "code",
   "execution_count": 8,
   "metadata": {
    "collapsed": false
   },
   "outputs": [
    {
     "name": "stderr",
     "output_type": "stream",
     "text": [
      "/home/kirill/anaconda3/lib/python3.6/site-packages/sklearn/cross_validation.py:44: DeprecationWarning: This module was deprecated in version 0.18 in favor of the model_selection module into which all the refactored classes and functions are moved. Also note that the interface of the new CV iterators are different from that of this module. This module will be removed in 0.20.\n",
      "  \"This module will be removed in 0.20.\", DeprecationWarning)\n"
     ]
    },
    {
     "data": {
      "text/plain": [
       "XGBRegressor(base_score=0.5, colsample_bylevel=1, colsample_bytree=1, gamma=0,\n",
       "       learning_rate=0.3, max_delta_step=0, max_depth=5,\n",
       "       min_child_weight=1, missing=None, n_estimators=200, nthread=-1,\n",
       "       objective='reg:linear', reg_alpha=0, reg_lambda=1,\n",
       "       scale_pos_weight=1, seed=0, silent=False, subsample=1)"
      ]
     },
     "execution_count": 8,
     "metadata": {},
     "output_type": "execute_result"
    }
   ],
   "source": [
    "from xgboost import XGBRegressor\n",
    "clf = XGBRegressor(n_estimators=200, max_depth=5, learning_rate=0.3, silent=False)\n",
    "clf"
   ]
  },
  {
   "cell_type": "code",
   "execution_count": 9,
   "metadata": {
    "collapsed": false
   },
   "outputs": [
    {
     "data": {
      "text/plain": [
       "XGBRegressor(base_score=0.5, colsample_bylevel=1, colsample_bytree=1, gamma=0,\n",
       "       learning_rate=0.3, max_delta_step=0, max_depth=5,\n",
       "       min_child_weight=1, missing=None, n_estimators=200, nthread=-1,\n",
       "       objective='reg:linear', reg_alpha=0, reg_lambda=1,\n",
       "       scale_pos_weight=1, seed=0, silent=False, subsample=1)"
      ]
     },
     "execution_count": 9,
     "metadata": {},
     "output_type": "execute_result"
    }
   ],
   "source": [
    "#params = {'n_estimators': 100, 'max_depth' : 3, 'n_jobs': 8, 'verbose': 1}\n",
    "clf.fit(X, Y)"
   ]
  },
  {
   "cell_type": "code",
   "execution_count": 13,
   "metadata": {
    "collapsed": false
   },
   "outputs": [
    {
     "data": {
      "text/plain": [
       "(241521, 136)"
      ]
     },
     "execution_count": 13,
     "metadata": {},
     "output_type": "execute_result"
    }
   ],
   "source": [
    "test_X = test.drop(['Y', 'QID'], axis=1).values\n",
    "test_X.shape"
   ]
  },
  {
   "cell_type": "code",
   "execution_count": 14,
   "metadata": {
    "collapsed": false
   },
   "outputs": [
    {
     "name": "stdout",
     "output_type": "stream",
     "text": [
      "2000\n"
     ]
    }
   ],
   "source": [
    "numOfDocs = 5\n",
    "numOfQueries = len(test.QID.unique())\n",
    "print(numOfQueries)\n",
    "\n",
    "with open('___subm.csv', 'w') as output:\n",
    "    output.write('DocumentId,QueryId\\n')\n",
    "    QIDArray = [0] * (test.QID.max() + 1)\n",
    "    for (i, row) in test.sort_values('Y', ascending=False).iterrows():\n",
    "        QID = int(row.QID)\n",
    "        if (QIDArray[QID] < numOfDocs):\n",
    "            QIDArray[QID] += 1\n",
    "            output.write(\"%d,%d\\n\" % (i + 1,QID))"
   ]
  }
 ],
 "metadata": {
  "anaconda-cloud": {},
  "kernelspec": {
   "display_name": "Python 3",
   "language": "python",
   "name": "python3"
  },
  "language_info": {
   "codemirror_mode": {
    "name": "ipython",
    "version": 3
   },
   "file_extension": ".py",
   "mimetype": "text/x-python",
   "name": "python",
   "nbconvert_exporter": "python",
   "pygments_lexer": "ipython3",
   "version": "3.6.0"
  }
 },
 "nbformat": 4,
 "nbformat_minor": 1
}
