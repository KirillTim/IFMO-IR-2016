{
 "cells": [
  {
   "cell_type": "markdown",
   "metadata": {},
   "source": [
    "# ** Описание **\n",
    "Построить графики распределения в спам и не спам множествах следующих признаков:\n",
    "\n",
    "1\tКоличество слов на странице\n",
    "\n",
    "2\tСредняя длинна слова\n",
    "\n",
    "3\tКоличество слов в заголовке страниц (слова в теге <html><head><title> Some text </title>)\n",
    "\n",
    "4\tКоличество слов в анкорах ссылок (<html><body><a> Some text </a>)\n",
    "\n",
    "5\tКоэффициент сжатия\n",
    "\n",
    "Нужно посчитать статистику минимум по трем признакам и обязательно сделать для 1-го и 2-го признаков\n",
    "\n",
    "И отправить первое решение в соревнование https://kaggle.com/join/antispam_infopoisk\n",
    "На основании одного из указанных выше признаков попытаться разделить мн-во, так чтобы score в соревновании был больше 0.55\n",
    "\n",
    "При выполнении всех этих условия в течении семинара +1 балл к ДЗ\n",
    "\n",
    "Описание ДЗ и правил выставления за него баллов в https://inclass.kaggle.com/c/antispam-infopoisk  \n",
    "Срок для ИТМО - 1 неделя  \n",
    "Срок для Техносферы - 3 недели  "
   ]
  },
  {
   "cell_type": "code",
   "execution_count": 1,
   "metadata": {
    "collapsed": true
   },
   "outputs": [],
   "source": [
    "import base64\n",
    "import zlib\n",
    "import csv\n",
    "from collections import namedtuple\n",
    "\n",
    "import pandas as pd\n",
    "import numpy as np\n",
    "import matplotlib.pyplot as plt\n",
    "%matplotlib inline"
   ]
  },
  {
   "cell_type": "code",
   "execution_count": 2,
   "metadata": {
    "collapsed": false
   },
   "outputs": [],
   "source": [
    "TRACE_NUM = 1000\n",
    "import logging\n",
    "import importlib\n",
    "importlib.reload(logging)\n",
    "logging.basicConfig(format='%(asctime)s %(levelname)s:%(message)s', level=logging.INFO, datefmt='%H:%M:%S')\n",
    "\n",
    "def trace(items_num, trace_num=TRACE_NUM):\n",
    "    if items_num % trace_num == 0: logging.info(\"Complete items %05d\" % items_num)"
   ]
  },
  {
   "cell_type": "code",
   "execution_count": 3,
   "metadata": {
    "collapsed": true
   },
   "outputs": [],
   "source": [
    "from bs4 import BeautifulSoup\n",
    "import warnings\n",
    "warnings.filterwarnings(\"ignore\", category=UserWarning, module='bs4')\n",
    "\n",
    "ParsingResult = namedtuple('ParsingResult', ['title_text', 'links_text', 'text'])\n",
    "def parse_html(raw_html):\n",
    "    soup = BeautifulSoup(raw_html, \"html.parser\")\n",
    "    title = \"\" if soup.title is None or soup.title.string is None else soup.title.string\n",
    "    links = [link.string for link in soup.findAll('a') if link.string is not None]\n",
    "    [s.extract() for s in soup(['script', 'style'])]\n",
    "    full_text = soup.get_text()\n",
    "    return ParsingResult(title, links, full_text)"
   ]
  },
  {
   "cell_type": "code",
   "execution_count": 4,
   "metadata": {
    "collapsed": true
   },
   "outputs": [],
   "source": [
    "def easy_tokenizer(text):\n",
    "    text = text.lower()\n",
    "    word = \"\"\n",
    "    for symbol in text:\n",
    "        if symbol.isalnum(): word += symbol\n",
    "        elif word:\n",
    "            yield word\n",
    "            word = \"\"\n",
    "    if word: yield word\n",
    "        \n",
    "def text2words(text, tokenizer=easy_tokenizer):\n",
    "    return tokenizer(text.lower())"
   ]
  },
  {
   "cell_type": "code",
   "execution_count": 5,
   "metadata": {
    "collapsed": true
   },
   "outputs": [],
   "source": [
    "WordsFeaturesResult = namedtuple('WordsFeaturesResult', ['title_text', 'links_text', 'text_words'])\n",
    "def get_words_features(url, html_data):\n",
    "    pr = parse_html(html_data)\n",
    "    return WordsFeaturesResult(pr.title_text, pr.links_text, list(text2words(pr.text)))"
   ]
  },
  {
   "cell_type": "code",
   "execution_count": 6,
   "metadata": {
    "collapsed": true
   },
   "outputs": [],
   "source": [
    "DocItem = namedtuple('DocItem', ['doc_id', 'is_spam', 'url', 'features'])\n",
    "\n",
    "def load_raw_csv(input_file_name, calc_features_f):    \n",
    "    with open(input_file_name)  as input_file:\n",
    "        headers = input_file.readline()\n",
    "        for i, line in enumerate(input_file):\n",
    "            trace(i)\n",
    "            parts = line.strip().split('\\t')\n",
    "            url_id = int(parts[0])                                        \n",
    "            mark = bool(int(parts[1]))                    \n",
    "            url = parts[2]\n",
    "            pageInb64 = parts[3]\n",
    "            html_data = base64.b64decode(pageInb64)\n",
    "            features = calc_features_f(url, html_data)            \n",
    "            yield DocItem(url_id, mark, url, features)            \n",
    "                \n",
    "        trace(i, 1)        "
   ]
  },
  {
   "cell_type": "code",
   "execution_count": 7,
   "metadata": {
    "collapsed": false
   },
   "outputs": [],
   "source": [
    "def raw_csv2text_csv(name):\n",
    "    raw_csv_file = '/home/kirill/ssd-pool/kaggle_{}_data_tab.csv'.format(name)\n",
    "    with open('text_features_{}.csv'.format(name) , 'w') as fout:\n",
    "        writer = csv.writer(fout)\n",
    "        writer.writerow(['doc_id','is_spam', 'url', 'title_text', 'links_text', 'text_words'])\n",
    "        for doc in load_raw_csv(raw_csv_file, get_words_features):\n",
    "            writer.writerow([doc.doc_id, doc.is_spam, doc.url, \n",
    "                             doc.features.title_text, doc.features.links_text, doc.features.text_words])"
   ]
  },
  {
   "cell_type": "code",
   "execution_count": 36,
   "metadata": {
    "collapsed": false
   },
   "outputs": [],
   "source": [
    "#raw_csv2text_csv('train')\n",
    "#raw_csv2text_csv('test')"
   ]
  },
  {
   "cell_type": "code",
   "execution_count": 8,
   "metadata": {
    "collapsed": true
   },
   "outputs": [],
   "source": [
    "def split_text_to_list(raw):\n",
    "    rv = [i[1:-1].strip() for i in raw[1:-1].split(\", \")]\n",
    "    return rv"
   ]
  },
  {
   "cell_type": "code",
   "execution_count": 173,
   "metadata": {
    "collapsed": false
   },
   "outputs": [],
   "source": [
    "train_texts = pd.read_csv(\"text_features_train.csv\")\n",
    "train_texts.links_text = train_texts.links_text.apply(split_text_to_list)\n",
    "train_texts.text_words = train_texts.text_words.apply(split_text_to_list)\n",
    "train_texts['words_num'] = train_texts.text_words.apply(lambda x: len(x))\n",
    "train_texts['avg_word_len'] = train_texts.apply(\n",
    "    lambda row: sum([len(w) for w in row['text_words']])/float(row['words_num'])\n",
    "    , axis=1)\n",
    "train_texts['title_words_num'] = train_texts.title_text.apply(lambda x: len(list(text2words(str(x)))))\n",
    "train_texts['anchor_words_num'] = train_texts.links_text.apply(lambda x: sum([len(i) for i in x]))\n",
    "train_texts['compression'] = train_texts.apply(\n",
    "    lambda row: row['words_num'] / float(len(set(row['text_words'])))\n",
    "    , axis=1)\n",
    "train_texts['links_num'] = train_texts.links_text.apply(lambda x: len(x))\n",
    "train_texts['domain_length'] = train_texts.url.apply(lambda x: len(x.split('//')[1].split('/')[0]))"
   ]
  },
  {
   "cell_type": "code",
   "execution_count": 170,
   "metadata": {
    "collapsed": false
   },
   "outputs": [
    {
     "data": {
      "text/html": [
       "<div>\n",
       "<table border=\"1\" class=\"dataframe\">\n",
       "  <thead>\n",
       "    <tr style=\"text-align: right;\">\n",
       "      <th></th>\n",
       "      <th>doc_id</th>\n",
       "      <th>is_spam</th>\n",
       "      <th>url</th>\n",
       "      <th>title_text</th>\n",
       "      <th>links_text</th>\n",
       "      <th>text_words</th>\n",
       "      <th>words_num</th>\n",
       "      <th>avg_word_len</th>\n",
       "      <th>title_words_num</th>\n",
       "      <th>anchor_words_num</th>\n",
       "      <th>compression</th>\n",
       "      <th>links_num</th>\n",
       "      <th>domain_length</th>\n",
       "    </tr>\n",
       "  </thead>\n",
       "  <tbody>\n",
       "    <tr>\n",
       "      <th>0</th>\n",
       "      <td>-9222401963271173253</td>\n",
       "      <td>False</td>\n",
       "      <td>http://lawleader.ru/docs/32/</td>\n",
       "      <td>Договор займа, договоры, договора</td>\n",
       "      <td>[Главная, О компании, Услуги, Бизнес-договоры,...</td>\n",
       "      <td>[договор, займа, договоры, договора, главная, ...</td>\n",
       "      <td>2914</td>\n",
       "      <td>6.580645</td>\n",
       "      <td>4</td>\n",
       "      <td>1303</td>\n",
       "      <td>2.634720</td>\n",
       "      <td>51</td>\n",
       "      <td>12</td>\n",
       "    </tr>\n",
       "    <tr>\n",
       "      <th>1</th>\n",
       "      <td>-9221399504663603656</td>\n",
       "      <td>False</td>\n",
       "      <td>http://alterhost.ruwww.alterhost.ruwww.user.kz...</td>\n",
       "      <td>UzRu – миры общения</td>\n",
       "      <td>[Главная, Форумы и обсуждения, Блоги, Творчест...</td>\n",
       "      <td>[uzru, миры, общения, главная, форумы, и, обсу...</td>\n",
       "      <td>400</td>\n",
       "      <td>5.440000</td>\n",
       "      <td>3</td>\n",
       "      <td>1252</td>\n",
       "      <td>1.520913</td>\n",
       "      <td>63</td>\n",
       "      <td>42</td>\n",
       "    </tr>\n",
       "    <tr>\n",
       "      <th>2</th>\n",
       "      <td>-9219733223042265364</td>\n",
       "      <td>False</td>\n",
       "      <td>http://www.ferio.ru/c_1-acura-legend.html</td>\n",
       "      <td>FERIO.RU: ремонт и автозапчасти Acura Legend</td>\n",
       "      <td>[\\nСанкт-Петербург, \\nСибирский ФО, \\nЮжный ФО...</td>\n",
       "      <td>[ferio, ru, ремонт, и, автозапчасти, acura, le...</td>\n",
       "      <td>1203</td>\n",
       "      <td>5.133832</td>\n",
       "      <td>7</td>\n",
       "      <td>1970</td>\n",
       "      <td>2.358824</td>\n",
       "      <td>127</td>\n",
       "      <td>12</td>\n",
       "    </tr>\n",
       "    <tr>\n",
       "      <th>3</th>\n",
       "      <td>-9218561774155397294</td>\n",
       "      <td>False</td>\n",
       "      <td>http://fshops.otzyv.ru/read.php?id=277</td>\n",
       "      <td>Как повесить штору?</td>\n",
       "      <td>[Форумы, Туризм, Кино, Авто, Магазины, Контакт...</td>\n",
       "      <td>[как, повесить, штору, как, повесить, штору, ф...</td>\n",
       "      <td>571</td>\n",
       "      <td>5.264448</td>\n",
       "      <td>3</td>\n",
       "      <td>973</td>\n",
       "      <td>1.735562</td>\n",
       "      <td>69</td>\n",
       "      <td>15</td>\n",
       "    </tr>\n",
       "    <tr>\n",
       "      <th>4</th>\n",
       "      <td>-9216163564171210203</td>\n",
       "      <td>True</td>\n",
       "      <td>http://penhea895.narod.ru/familiya-shushmarche...</td>\n",
       "      <td>Фамилия Шушмарченко - французские фамилии</td>\n",
       "      <td>[Рамблер, Поиск, ещё, Авторамблер, Аудио, Афиш...</td>\n",
       "      <td>[фамилия, шушмарченко, французские, фамилии, р...</td>\n",
       "      <td>447</td>\n",
       "      <td>6.004474</td>\n",
       "      <td>4</td>\n",
       "      <td>932</td>\n",
       "      <td>1.515254</td>\n",
       "      <td>74</td>\n",
       "      <td>18</td>\n",
       "    </tr>\n",
       "  </tbody>\n",
       "</table>\n",
       "</div>"
      ],
      "text/plain": [
       "                doc_id is_spam  \\\n",
       "0 -9222401963271173253   False   \n",
       "1 -9221399504663603656   False   \n",
       "2 -9219733223042265364   False   \n",
       "3 -9218561774155397294   False   \n",
       "4 -9216163564171210203    True   \n",
       "\n",
       "                                                 url  \\\n",
       "0                       http://lawleader.ru/docs/32/   \n",
       "1  http://alterhost.ruwww.alterhost.ruwww.user.kz...   \n",
       "2          http://www.ferio.ru/c_1-acura-legend.html   \n",
       "3             http://fshops.otzyv.ru/read.php?id=277   \n",
       "4  http://penhea895.narod.ru/familiya-shushmarche...   \n",
       "\n",
       "                                      title_text  \\\n",
       "0              Договор займа, договоры, договора   \n",
       "1                            UzRu – миры общения   \n",
       "2  FERIO.RU: ремонт и автозапчасти Acura Legend    \n",
       "3                            Как повесить штору?   \n",
       "4      Фамилия Шушмарченко - французские фамилии   \n",
       "\n",
       "                                          links_text  \\\n",
       "0  [Главная, О компании, Услуги, Бизнес-договоры,...   \n",
       "1  [Главная, Форумы и обсуждения, Блоги, Творчест...   \n",
       "2  [\\nСанкт-Петербург, \\nСибирский ФО, \\nЮжный ФО...   \n",
       "3  [Форумы, Туризм, Кино, Авто, Магазины, Контакт...   \n",
       "4  [Рамблер, Поиск, ещё, Авторамблер, Аудио, Афиш...   \n",
       "\n",
       "                                          text_words  words_num  avg_word_len  \\\n",
       "0  [договор, займа, договоры, договора, главная, ...       2914      6.580645   \n",
       "1  [uzru, миры, общения, главная, форумы, и, обсу...        400      5.440000   \n",
       "2  [ferio, ru, ремонт, и, автозапчасти, acura, le...       1203      5.133832   \n",
       "3  [как, повесить, штору, как, повесить, штору, ф...        571      5.264448   \n",
       "4  [фамилия, шушмарченко, французские, фамилии, р...        447      6.004474   \n",
       "\n",
       "   title_words_num  anchor_words_num  compression  links_num  domain_length  \n",
       "0                4              1303     2.634720         51             12  \n",
       "1                3              1252     1.520913         63             42  \n",
       "2                7              1970     2.358824        127             12  \n",
       "3                3               973     1.735562         69             15  \n",
       "4                4               932     1.515254         74             18  "
      ]
     },
     "execution_count": 170,
     "metadata": {},
     "output_type": "execute_result"
    }
   ],
   "source": [
    "train_texts.head()"
   ]
  },
  {
   "cell_type": "code",
   "execution_count": null,
   "metadata": {
    "collapsed": true
   },
   "outputs": [],
   "source": [
    "is_spam_data = [doc.features[0] for doc in train_docs if doc[1] == True]\n",
    "not_spam_data = [doc.features[0] for doc in train_docs if doc[1] == False]\n",
    "bins = range(0,3000,10)\n",
    "plt.hist(is_spam_data, bins=bins, color='red', normed=True, alpha=0.7, label='spam')\n",
    "plt.hist(not_spam_data, bins=bins, color='blue', normed=True, alpha=0.7, label='not_spam')\n",
    "plt.title('NumWords')\n",
    "plt.legend()\n",
    "plt.show()"
   ]
  },
  {
   "cell_type": "code",
   "execution_count": 154,
   "metadata": {
    "collapsed": false
   },
   "outputs": [],
   "source": [
    "def plot_distribution(feature, bins = range(0,3000,10)):\n",
    "    spam_data = train_texts[train_texts['is_spam']][feature]\n",
    "    not_spam_data = train_texts[train_texts['is_spam'] == False][feature]\n",
    "    plt.hist(spam_data, bins=bins, color='red', linewidth=0, normed=True, alpha=0.7, label='spam')\n",
    "    plt.hist(not_spam_data, bins=bins, color='blue', linewidth=0, normed=True, alpha=0.7, label='not_spam')\n",
    "    plt.title(feature)\n",
    "    plt.legend()\n",
    "    plt.show()"
   ]
  },
  {
   "cell_type": "code",
   "execution_count": 155,
   "metadata": {
    "collapsed": false
   },
   "outputs": [
    {
     "data": {
      "image/png": "[encoded data removed]",
      "text/plain": [
       "<matplotlib.figure.Figure at 0x7fa0b102a438>"
      ]
     },
     "metadata": {},
     "output_type": "display_data"
    }
   ],
   "source": [
    "plot_distribution('words_num')"
   ]
  },
  {
   "cell_type": "code",
   "execution_count": 157,
   "metadata": {
    "collapsed": false
   },
   "outputs": [
    {
     "data": {
      "image/png": "[encoded data removed]",
      "text/plain": [
       "<matplotlib.figure.Figure at 0x7fa0b373ebe0>"
      ]
     },
     "metadata": {},
     "output_type": "display_data"
    }
   ],
   "source": [
    "plot_distribution('title_words_num', bins = range(0, 30, 1))"
   ]
  },
  {
   "cell_type": "code",
   "execution_count": 160,
   "metadata": {
    "collapsed": false
   },
   "outputs": [
    {
     "data": {
      "image/png": "[encoded data removed]",
      "text/plain": [
       "<matplotlib.figure.Figure at 0x7fa0af192dd8>"
      ]
     },
     "metadata": {},
     "output_type": "display_data"
    }
   ],
   "source": [
    "plot_distribution('avg_word_len', bins = 100)"
   ]
  },
  {
   "cell_type": "code",
   "execution_count": 142,
   "metadata": {
    "collapsed": false
   },
   "outputs": [],
   "source": [
    "import xgboost as xgb\n",
    "from sklearn.cross_validation import KFold, cross_val_predict\n",
    "from sklearn.metrics import f1_score"
   ]
  },
  {
   "cell_type": "code",
   "execution_count": 172,
   "metadata": {
    "collapsed": false
   },
   "outputs": [
    {
     "data": {
      "text/plain": [
       "0.86105667142615894"
      ]
     },
     "execution_count": 172,
     "metadata": {},
     "output_type": "execute_result"
    }
   ],
   "source": [
    "X = train_texts[['words_num', 'avg_word_len', 'title_words_num',\n",
    "                 'anchor_words_num', 'compression', 'links_num', \n",
    "                 'domain_length']].as_matrix()\n",
    "Y = train_texts['is_spam'].as_matrix()\n",
    "folds = KFold(X.shape[0], n_folds=5, shuffle=True)\n",
    "classifier = xgb.XGBClassifier(n_estimators=50, silent=False)\n",
    "probas = cross_val_predict(classifier, X, Y, folds)\n",
    "score = f1_score(Y, probas, average='weighted')\n",
    "score"
   ]
  }
 ],
 "metadata": {
  "anaconda-cloud": {},
  "kernelspec": {
   "display_name": "Python [default]",
   "language": "python",
   "name": "python3"
  },
  "language_info": {
   "codemirror_mode": {
    "name": "ipython",
    "version": 3
   },
   "file_extension": ".py",
   "mimetype": "text/x-python",
   "name": "python",
   "nbconvert_exporter": "python",
   "pygments_lexer": "ipython3",
   "version": "3.5.2"
  }
 },
 "nbformat": 4,
 "nbformat_minor": 1
}
