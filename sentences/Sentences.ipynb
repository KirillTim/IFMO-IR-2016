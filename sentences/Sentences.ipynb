{
 "cells": [
  {
   "cell_type": "code",
   "execution_count": 1,
   "metadata": {
    "collapsed": false
   },
   "outputs": [],
   "source": [
    "import csv\n",
    "import re\n",
    "from collections import Counter\n",
    "\n",
    "import pandas as pd\n",
    "import numpy as np\n",
    "import json\n",
    "import io\n",
    "from sklearn.neural_network import MLPClassifier\n",
    "from sklearn import preprocessing\n",
    "from sklearn.model_selection import KFold\n",
    "from sklearn.model_selection import train_test_split\n",
    "from sklearn import metrics\n",
    "from sklearn.utils import shuffle"
   ]
  },
  {
   "cell_type": "code",
   "execution_count": 2,
   "metadata": {
    "collapsed": false
   },
   "outputs": [
    {
     "data": {
      "text/plain": [
       "22676"
      ]
     },
     "execution_count": 2,
     "metadata": {},
     "output_type": "execute_result"
    }
   ],
   "source": [
    "train_data = []\n",
    "with open('train_data.json') as f:\n",
    "    for line in f:\n",
    "        train_data.append(json.loads(line))\n",
    "len(train_data)"
   ]
  },
  {
   "cell_type": "code",
   "execution_count": 45,
   "metadata": {
    "collapsed": false
   },
   "outputs": [
    {
     "data": {
      "text/plain": [
       "5670"
      ]
     },
     "execution_count": 45,
     "metadata": {},
     "output_type": "execute_result"
    }
   ],
   "source": [
    "test_data = []\n",
    "with open('test_data.json') as f:\n",
    "    for line in f:\n",
    "        test_data.append(json.loads(line))\n",
    "len(test_data)"
   ]
  },
  {
   "cell_type": "code",
   "execution_count": 4,
   "metadata": {
    "collapsed": false
   },
   "outputs": [
    {
     "data": {
      "text/plain": [
       "['.', '\"', '»', '…', '?', '!']"
      ]
     },
     "execution_count": 4,
     "metadata": {},
     "output_type": "execute_result"
    }
   ],
   "source": [
    "to_test = Counter()\n",
    "for d in test_data:\n",
    "    for m in d['Marks']:\n",
    "        to_test[m['Mark']] += 1\n",
    "to_test = list(to_test.keys())\n",
    "to_test"
   ]
  },
  {
   "cell_type": "code",
   "execution_count": 47,
   "metadata": {
    "collapsed": false
   },
   "outputs": [
    {
     "data": {
      "text/plain": [
       "{'Marks': [{'Index': 26474, 'Mark': '.', 'Pos': 138},\n",
       "  {'Index': 26475, 'Mark': '.', 'Pos': 254},\n",
       "  {'Index': 26476, 'Mark': '.', 'Pos': 347}],\n",
       " 'Paragraph': 'По данным ОВД-Инфо, отмена приговора Валерию Юрцеву — практически единственная успешная апелляция по делам задержанных 5 декабря 2011 года. Несколько десятков задержанных подавали апелляции в районные суды, однако жалобы были оставлены без удовлетворения. Сейчас дела задержанных 5 декабря готовятся для подачи в Европейский суд по правам человека.'}"
      ]
     },
     "execution_count": 47,
     "metadata": {},
     "output_type": "execute_result"
    }
   ],
   "source": [
    "test_data[-1]"
   ]
  },
  {
   "cell_type": "code",
   "execution_count": 32,
   "metadata": {
    "collapsed": false
   },
   "outputs": [],
   "source": [
    "vocab = {}\n",
    "for x in train_data:\n",
    "    p = x['Paragraph']\n",
    "    for c in p:\n",
    "        if c not in vocab:\n",
    "            vocab[c] = len(vocab)\n",
    "for x in test_data:\n",
    "    p = x['Paragraph']\n",
    "    for c in p:\n",
    "        if c not in vocab:\n",
    "            vocab[c] = len(vocab)"
   ]
  },
  {
   "cell_type": "code",
   "execution_count": 33,
   "metadata": {
    "collapsed": false
   },
   "outputs": [
    {
     "data": {
      "text/plain": [
       "883"
      ]
     },
     "execution_count": 33,
     "metadata": {},
     "output_type": "execute_result"
    }
   ],
   "source": [
    "len(vocab)"
   ]
  },
  {
   "cell_type": "code",
   "execution_count": 34,
   "metadata": {
    "collapsed": true
   },
   "outputs": [],
   "source": [
    "from collections import namedtuple\n",
    "Sample = namedtuple('Sample', ['before','mark','after','is_end'])"
   ]
  },
  {
   "cell_type": "code",
   "execution_count": 35,
   "metadata": {
    "collapsed": true
   },
   "outputs": [],
   "source": [
    "def get_window(string, i):\n",
    "    prev = ''.join([z for z in string[max(i-window_before, 0):i]])\n",
    "    prev = '*' * (window_before - len(prev)) + prev\n",
    "    after = ''.join([z for z in string[i+1:i+1+window_after]])\n",
    "    after = after + '$' * (window_after - len(after))\n",
    "    return prev, after, string[i]"
   ]
  },
  {
   "cell_type": "code",
   "execution_count": 36,
   "metadata": {
    "collapsed": false
   },
   "outputs": [],
   "source": [
    "window_before = 6\n",
    "window_after = 6\n",
    "samples = []\n",
    "for x in train_data:\n",
    "    paragraph = x['Paragraph']\n",
    "    sentences = x['Sentences']\n",
    "    for i, c in enumerate(paragraph):\n",
    "        if c in to_test:\n",
    "            before, after, mark = get_window(paragraph, i)\n",
    "            end = any([s.endswith(paragraph[i-10:i+1]) for s in sentences])\n",
    "            samples.append(Sample(before, mark, after, end))"
   ]
  },
  {
   "cell_type": "code",
   "execution_count": 22,
   "metadata": {
    "collapsed": true
   },
   "outputs": [],
   "source": [
    "def sample2input(sample):\n",
    "    w = s.before+s.mark+s.after\n",
    "    u = [int(i.isupper()) for i in w]\n",
    "    a = [int(i.isalpha()) for i in w]\n",
    "    return [vocab[i] for i in w] + u + a"
   ]
  },
  {
   "cell_type": "code",
   "execution_count": 23,
   "metadata": {
    "collapsed": false
   },
   "outputs": [],
   "source": [
    "X = []\n",
    "Y = []\n",
    "for s in samples:\n",
    "    X.append(sample2input(s))\n",
    "    Y.append(s.is_end)"
   ]
  },
  {
   "cell_type": "code",
   "execution_count": 44,
   "metadata": {
    "collapsed": false
   },
   "outputs": [
    {
     "data": {
      "text/plain": [
       "(0.92600943569318106, 0.96140196831668678)"
      ]
     },
     "execution_count": 44,
     "metadata": {},
     "output_type": "execute_result"
    }
   ],
   "source": [
    "# train_X, test_X, train_Y, test_Y = train_test_split(X, Y, test_size=0.2)\n",
    "# clf = MLPClassifier(solver='lbfgs', alpha=1e-5, hidden_layer_sizes=(20, 15, 10))\n",
    "# clf.fit(train_X, train_Y)\n",
    "# res = []\n",
    "# for x in test_X:\n",
    "#     xx = np.array(x).reshape(1, -1)\n",
    "#     res.append(clf.predict(xx)[0])\n",
    "# metrics.roc_auc_score(test_Y, res), metrics.f1_score(test_Y, res)"
   ]
  },
  {
   "cell_type": "code",
   "execution_count": 49,
   "metadata": {
    "collapsed": false
   },
   "outputs": [],
   "source": [
    "test_X = dict()\n",
    "for x in test_data:\n",
    "    paragraph = x['Paragraph']\n",
    "    marks = x['Marks']\n",
    "    for m in marks:\n",
    "        pos = m['Pos']\n",
    "        ind = m['Index']\n",
    "        before, after, mark = get_window(paragraph, pos)        \n",
    "        test_X[ind] = sample2input(Sample(before, mark, after, False))"
   ]
  },
  {
   "cell_type": "code",
   "execution_count": 50,
   "metadata": {
    "collapsed": false
   },
   "outputs": [],
   "source": [
    "clf = MLPClassifier(solver='lbfgs', alpha=1e-5, hidden_layer_sizes=(20, 15, 10))\n",
    "clf.fit(X, Y)\n",
    "ans = dict()\n",
    "for i, x in test_X.items():\n",
    "    xx = np.array(x).reshape(1, -1)\n",
    "    ans[i] = int(clf.predict(xx)[0])"
   ]
  },
  {
   "cell_type": "code",
   "execution_count": 51,
   "metadata": {
    "collapsed": false
   },
   "outputs": [
    {
     "data": {
      "text/plain": [
       "26476"
      ]
     },
     "execution_count": 51,
     "metadata": {},
     "output_type": "execute_result"
    }
   ],
   "source": [
    "len(ans)"
   ]
  },
  {
   "cell_type": "code",
   "execution_count": 52,
   "metadata": {
    "collapsed": false
   },
   "outputs": [],
   "source": [
    "with open('sampleSubmission.csv', 'w') as fout:\n",
    "    writer = csv.writer(fout)\n",
    "    writer.writerow(['Id', 'Mark'])\n",
    "    for i, mark in ans.items():\n",
    "        writer.writerow([i, int(mark)])"
   ]
  }
 ],
 "metadata": {
  "kernelspec": {
   "display_name": "Python 3",
   "language": "python",
   "name": "python3"
  },
  "language_info": {
   "codemirror_mode": {
    "name": "ipython",
    "version": 3
   },
   "file_extension": ".py",
   "mimetype": "text/x-python",
   "name": "python",
   "nbconvert_exporter": "python",
   "pygments_lexer": "ipython3",
   "version": "3.6.0"
  }
 },
 "nbformat": 4,
 "nbformat_minor": 2
}
