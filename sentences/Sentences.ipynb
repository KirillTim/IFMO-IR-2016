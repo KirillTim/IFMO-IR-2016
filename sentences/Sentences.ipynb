{
 "cells": [
  {
   "cell_type": "code",
   "execution_count": 2,
   "metadata": {
    "collapsed": false
   },
   "outputs": [],
   "source": [
    "import csv\n",
    "import re\n",
    "from collections import Counter\n",
    "\n",
    "import pandas as pd\n",
    "import numpy as np\n",
    "import json\n",
    "import io\n",
    "from sklearn.neural_network import MLPClassifier\n",
    "from sklearn import preprocessing\n",
    "from sklearn.model_selection import KFold\n",
    "from sklearn.model_selection import train_test_split\n",
    "from sklearn import metrics\n",
    "from sklearn.utils import shuffle\n",
    "from scipy.sparse import csc_matrix\n",
    "from scipy.sparse import coo_matrix\n",
    "from sklearn.preprocessing import OneHotEncoder"
   ]
  },
  {
   "cell_type": "code",
   "execution_count": 3,
   "metadata": {
    "collapsed": false
   },
   "outputs": [
    {
     "data": {
      "text/plain": [
       "22676"
      ]
     },
     "execution_count": 3,
     "metadata": {},
     "output_type": "execute_result"
    }
   ],
   "source": [
    "train_data = []\n",
    "with open('train_data.json') as f:\n",
    "    for line in f:\n",
    "        train_data.append(json.loads(line))\n",
    "len(train_data)"
   ]
  },
  {
   "cell_type": "code",
   "execution_count": 79,
   "metadata": {
    "collapsed": false
   },
   "outputs": [
    {
     "data": {
      "text/plain": [
       "5670"
      ]
     },
     "execution_count": 79,
     "metadata": {},
     "output_type": "execute_result"
    }
   ],
   "source": [
    "test_data = []\n",
    "with open('test_data.json') as f:\n",
    "    for line in f:\n",
    "        test_data.append(json.loads(line))\n",
    "len(test_data)"
   ]
  },
  {
   "cell_type": "code",
   "execution_count": 80,
   "metadata": {
    "collapsed": false
   },
   "outputs": [
    {
     "data": {
      "text/plain": [
       "['.', '\"', '»', '…', '?', '!']"
      ]
     },
     "execution_count": 80,
     "metadata": {},
     "output_type": "execute_result"
    }
   ],
   "source": [
    "to_test = Counter()\n",
    "for d in test_data:\n",
    "    for m in d['Marks']:\n",
    "        to_test[m['Mark']] += 1\n",
    "to_test = list(to_test.keys())\n",
    "to_test"
   ]
  },
  {
   "cell_type": "code",
   "execution_count": 81,
   "metadata": {
    "collapsed": false
   },
   "outputs": [
    {
     "data": {
      "text/plain": [
       "{'Marks': [{'Index': 26060, 'Mark': '.', 'Pos': 91},\n",
       "  {'Index': 26061, 'Mark': '.', 'Pos': 282},\n",
       "  {'Index': 26062, 'Mark': '.', 'Pos': 350},\n",
       "  {'Index': 26063, 'Mark': '.', 'Pos': 432}],\n",
       " 'Paragraph': 'На первой площадке она встретила доктора, когда он уже возвращался, неся на руках астронома. Он остановился и своим острым, как скальпель, языком отрезал несколько слов, не очень громко Миссис Паркер застыла в неловкой позе, как платье из негнущейся материи, соскользнувшее с гвоздя. С тех пор чувство неловкости в душе и теле осталось у нее навсегда. Время от времени любопытные жильцы спрашивали, что же это ей сказал тогда доктор.'}"
      ]
     },
     "execution_count": 81,
     "metadata": {},
     "output_type": "execute_result"
    }
   ],
   "source": [
    "test_data[-100]"
   ]
  },
  {
   "cell_type": "code",
   "execution_count": 7,
   "metadata": {
    "collapsed": false
   },
   "outputs": [],
   "source": [
    "vocab = {}\n",
    "for x in train_data:\n",
    "    p = x['Paragraph']\n",
    "    for c in p:\n",
    "        if c not in vocab:\n",
    "            vocab[c] = len(vocab)\n",
    "for x in test_data:\n",
    "    p = x['Paragraph']\n",
    "    for c in p:\n",
    "        if c not in vocab:\n",
    "            vocab[c] = len(vocab)"
   ]
  },
  {
   "cell_type": "code",
   "execution_count": 8,
   "metadata": {
    "collapsed": false
   },
   "outputs": [
    {
     "data": {
      "text/plain": [
       "883"
      ]
     },
     "execution_count": 8,
     "metadata": {},
     "output_type": "execute_result"
    }
   ],
   "source": [
    "len(vocab)"
   ]
  },
  {
   "cell_type": "code",
   "execution_count": 9,
   "metadata": {
    "collapsed": true
   },
   "outputs": [],
   "source": [
    "from collections import namedtuple\n",
    "Sample = namedtuple('Sample', ['before','mark','after','is_end'])"
   ]
  },
  {
   "cell_type": "code",
   "execution_count": 10,
   "metadata": {
    "collapsed": true
   },
   "outputs": [],
   "source": [
    "def get_window(string, i):\n",
    "    prev = ''.join([z for z in string[max(i-window_before, 0):i]])\n",
    "    prev = '*' * (window_before - len(prev)) + prev\n",
    "    after = ''.join([z for z in string[i+1:i+1+window_after]])\n",
    "    after = after + '$' * (window_after - len(after))\n",
    "    return prev, after, string[i]"
   ]
  },
  {
   "cell_type": "code",
   "execution_count": 93,
   "metadata": {
    "collapsed": false
   },
   "outputs": [],
   "source": [
    "window_before = 10\n",
    "window_after = 10\n",
    "samples = []\n",
    "for x in train_data:\n",
    "    paragraph = x['Paragraph']\n",
    "    sentences = x['Sentences']\n",
    "    for i, c in enumerate(paragraph):\n",
    "        if c in to_test:\n",
    "            before, after, mark = get_window(paragraph, i)\n",
    "            end = any([s.endswith(paragraph[i-10:i+1]) for s in sentences])\n",
    "            samples.append(Sample(before, mark, after, end))"
   ]
  },
  {
   "cell_type": "code",
   "execution_count": 95,
   "metadata": {
    "collapsed": true
   },
   "outputs": [],
   "source": [
    "def sample2input(s):\n",
    "    w = s.before+s.mark+s.after\n",
    "    u = [int(i.isupper()) for i in w]\n",
    "    a = [int(i.isalpha()) for i in w]\n",
    "    m = [int(i in to_test) for i in w]\n",
    "    return [vocab[i] for i in w] + u + a"
   ]
  },
  {
   "cell_type": "code",
   "execution_count": 96,
   "metadata": {
    "collapsed": false
   },
   "outputs": [],
   "source": [
    "X = []\n",
    "Y = []\n",
    "for i, s in enumerate(samples):\n",
    "    X.append(sample2input(s))\n",
    "    Y.append(s.is_end)"
   ]
  },
  {
   "cell_type": "code",
   "execution_count": 97,
   "metadata": {
    "collapsed": false
   },
   "outputs": [
    {
     "data": {
      "text/plain": [
       "26476"
      ]
     },
     "execution_count": 97,
     "metadata": {},
     "output_type": "execute_result"
    }
   ],
   "source": [
    "test_X = []\n",
    "for x in test_data:\n",
    "    paragraph = x['Paragraph']\n",
    "    marks = x['Marks']\n",
    "    for m in marks:\n",
    "        pos = m['Pos']\n",
    "        ind = m['Index']\n",
    "        before, after, mark = get_window(paragraph, pos)        \n",
    "        test_X.append(sample2input(Sample(before, mark, after, False)))\n",
    "len(test_X)"
   ]
  },
  {
   "cell_type": "code",
   "execution_count": 98,
   "metadata": {
    "collapsed": false
   },
   "outputs": [
    {
     "data": {
      "text/plain": [
       "OneHotEncoder(categorical_features='all', dtype=<class 'numpy.float64'>,\n",
       "       handle_unknown='error', n_values='auto', sparse=True)"
      ]
     },
     "execution_count": 98,
     "metadata": {},
     "output_type": "execute_result"
    }
   ],
   "source": [
    "enc = OneHotEncoder()\n",
    "enc.fit(X + test_X)"
   ]
  },
  {
   "cell_type": "code",
   "execution_count": 99,
   "metadata": {
    "collapsed": true
   },
   "outputs": [],
   "source": [
    "X = enc.transform(X)\n",
    "test_X = enc.transform(test_X)"
   ]
  },
  {
   "cell_type": "code",
   "execution_count": 100,
   "metadata": {
    "collapsed": false
   },
   "outputs": [
    {
     "data": {
      "text/plain": [
       "883"
      ]
     },
     "execution_count": 100,
     "metadata": {},
     "output_type": "execute_result"
    }
   ],
   "source": [
    "len(vocab)"
   ]
  },
  {
   "cell_type": "code",
   "execution_count": 74,
   "metadata": {
    "collapsed": false
   },
   "outputs": [],
   "source": [
    "# train_X, test_X, train_Y, test_Y = train_test_split(X, Y, test_size=0.2)\n",
    "# clf = MLPClassifier(solver='lbfgs', alpha=1e-5, hidden_layer_sizes=(100, 50, 25, 10))\n",
    "# clf.fit(train_X, train_Y)\n",
    "# res = []\n",
    "# for x in test_X:\n",
    "#     xx = np.array(x).tolist()\n",
    "#     res.append(clf.predict(xx)[0])\n",
    "# metrics.roc_auc_score(test_Y, res), metrics.f1_score(test_Y, res)"
   ]
  },
  {
   "cell_type": "code",
   "execution_count": 101,
   "metadata": {
    "collapsed": false
   },
   "outputs": [
    {
     "data": {
      "text/plain": [
       "MLPClassifier(activation='relu', alpha=1e-05, batch_size='auto', beta_1=0.9,\n",
       "       beta_2=0.999, early_stopping=False, epsilon=1e-08,\n",
       "       hidden_layer_sizes=(200, 100, 50, 10), learning_rate='constant',\n",
       "       learning_rate_init=0.001, max_iter=200, momentum=0.9,\n",
       "       nesterovs_momentum=True, power_t=0.5, random_state=None,\n",
       "       shuffle=True, solver='lbfgs', tol=0.0001, validation_fraction=0.1,\n",
       "       verbose=False, warm_start=False)"
      ]
     },
     "execution_count": 101,
     "metadata": {},
     "output_type": "execute_result"
    }
   ],
   "source": [
    "clf = MLPClassifier(solver='lbfgs', alpha=1e-5, hidden_layer_sizes=(200, 100, 50, 10))\n",
    "clf.fit(X, Y)"
   ]
  },
  {
   "cell_type": "code",
   "execution_count": 102,
   "metadata": {
    "collapsed": false
   },
   "outputs": [],
   "source": [
    "ans = dict()\n",
    "for i, x in enumerate(test_X):\n",
    "    xx = np.array(x).tolist()\n",
    "    ans[i+1] = int(clf.predict(xx)[0])"
   ]
  },
  {
   "cell_type": "code",
   "execution_count": 103,
   "metadata": {
    "collapsed": false
   },
   "outputs": [
    {
     "data": {
      "text/plain": [
       "26476"
      ]
     },
     "execution_count": 103,
     "metadata": {},
     "output_type": "execute_result"
    }
   ],
   "source": [
    "len(ans)"
   ]
  },
  {
   "cell_type": "code",
   "execution_count": 104,
   "metadata": {
    "collapsed": false
   },
   "outputs": [],
   "source": [
    "with open('sampleSubmission.csv', 'w') as fout:\n",
    "    writer = csv.writer(fout)\n",
    "    writer.writerow(['Id', 'Mark'])\n",
    "    for i, mark in ans.items():\n",
    "        writer.writerow([i, int(mark)])"
   ]
  }
 ],
 "metadata": {
  "kernelspec": {
   "display_name": "Python 3",
   "language": "python",
   "name": "python3"
  },
  "language_info": {
   "codemirror_mode": {
    "name": "ipython",
    "version": 3
   },
   "file_extension": ".py",
   "mimetype": "text/x-python",
   "name": "python",
   "nbconvert_exporter": "python",
   "pygments_lexer": "ipython3",
   "version": "3.6.0"
  }
 },
 "nbformat": 4,
 "nbformat_minor": 2
}
